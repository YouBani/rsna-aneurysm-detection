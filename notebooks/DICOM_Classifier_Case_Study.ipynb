{
 "cells": [
  {
   "cell_type": "markdown",
   "id": "19a3d42a",
   "metadata": {},
   "source": [
    "# Case Study: Robust DICOM Series Classification for Preprocessing Pipelines"
   ]
  },
  {
   "cell_type": "markdown",
   "id": "ddf1919b",
   "metadata": {},
   "source": [
    "**Goal:** To develop a reliable method for classifying medical imaging series (CT, MR) into specific subtypes (e.g. CTA, MRA)\n",
    "\n",
    "**Problem:** Medical imaging data acquired from different hospitals and scanners exhibits high variability in its metadata. A single study type might have dozens of different SeriesDescription labels due to vendor differences, local hospital protocols, and even language variations.\n",
    "\n",
    "**Application:** Accurate classification is critical for downstream automated processing. For example, CT scans require Hounsfield Unit (HU) conversion and windowing, while MR scans require z-score normalization or min-max scaling. An MRA sequence and a T2-weighted sequence from the same MR scan require different handling."
   ]
  },
  {
   "cell_type": "code",
   "execution_count": 2,
   "id": "f681a68d",
   "metadata": {},
   "outputs": [],
   "source": [
    "import re\n",
    "import pydicom\n",
    "import pandas as pd\n",
    "from pathlib import Path\n",
    "from collections import Counter\n",
    "from pydicom.dataset import Dataset\n",
    "\n",
    "data_root = Path(\"/fsx\")"
   ]
  },
  {
   "cell_type": "markdown",
   "id": "fa1778c2",
   "metadata": {},
   "source": [
    "First, let's explore the raw metadata to understand the scale of the challenge. We will scan the first DICOM file from each series and collect key metadata fields: Modality, SeriesDescription, and ProcedureCodeSequence."
   ]
  },
  {
   "cell_type": "code",
   "execution_count": 3,
   "id": "9456e993",
   "metadata": {},
   "outputs": [
    {
     "name": "stdout",
     "output_type": "stream",
     "text": [
      "--- DICOM Metadata Summary ---\n",
      "\n",
      "Series Descriptions:\n",
      "[('T2 TSE', 165), ('MRA', 157), ('TOF_3D_MULTI-SLAB', 109), ('AX T2', 92), ('ANEURYSM', 90), ('AX COW', 78), ('AX T2 PROPELLER', 68), ('TOF_FL3D_TRA', 59), ('CTA HEAD & NECK, IDOSE (3)', 56), ('CTA 3.000 CE', 56)]\n",
      "\n",
      "Specific Character Sets:\n",
      "[('ISO_IR 100', 3900), ('ISO_IR 166', 92), ('ISO 2022 IR 100', 6), ('ISO_IR 101', 2), ('ISO_IR 192', 1)]\n",
      "\n",
      "Procedure Code Meanings:\n",
      "[('BT ANJIYOGRAFI, BEYIN - BOYUN', 45), ('MRA BRAIN WO/W CONTRAST', 28), ('MRG BEYIN, INME (DIFUZYON,SWI, BEYIN MRA DAHIL)', 25), ('BT ANJIYOGRAFI,BEYIN', 23), ('MRI BRAIN WO/W CONTRAST', 23), ('MRI BRAIN W/O CONTRAST', 13), ('CT ANGIOGRAM HEAD AND NECK WITH CONTRAST', 13), ('MRI/MRA BRAIN WITHOUT AND WITH CONTRAST (INCLUDE VWI)', 8), ('MR BRAIN/MR ANGIOGRAM WITH AND WITHOUT CONTRAST', 7), ('CT VASCULAR', 7)]\n",
      "-----------------------------\n"
     ]
    }
   ],
   "source": [
    "series_dir = data_root / \"raw\" / \"series\"\n",
    "\n",
    "series_descriptions = []\n",
    "char_sets = []\n",
    "procedure_code_meanings = []\n",
    "\n",
    "for uid_dir in series_dir.iterdir():\n",
    "    files = sorted(uid_dir.glob(\"*.dcm\"))\n",
    "    if files:\n",
    "        ds = pydicom.dcmread(str(files[0]))\n",
    "        desc = str(getattr(ds, \"SeriesDescription\", \"\")).upper()\n",
    "        if desc:\n",
    "            series_descriptions.append(desc)\n",
    "        char_set = str(getattr(ds, \"SpecificCharacterSet\", \"\")).upper()\n",
    "        if char_set:\n",
    "            char_sets.append(char_set)\n",
    "        try:\n",
    "            procedure_codes = getattr(ds, \"ProcedureCodeSequence\", [])\n",
    "            for item in procedure_codes:\n",
    "                code_meaning = str(getattr(item, \"CodeMeaning\", \"\")).upper()\n",
    "                if code_meaning:\n",
    "                    procedure_code_meanings.append(code_meaning)\n",
    "        except Exception:\n",
    "            pass\n",
    "    \n",
    "print(\"--- DICOM Metadata Summary ---\")\n",
    "print(\"\\nSeries Descriptions:\")\n",
    "print(Counter(series_descriptions).most_common(10))\n",
    "\n",
    "print(\"\\nSpecific Character Sets:\")\n",
    "print(Counter(char_sets).most_common(10))\n",
    "\n",
    "print(\"\\nProcedure Code Meanings:\")\n",
    "print(Counter(procedure_code_meanings).most_common(10))\n",
    "print(\"-----------------------------\")     \n",
    "    \n"
   ]
  },
  {
   "cell_type": "markdown",
   "id": "aa45cfc2",
   "metadata": {},
   "source": [
    "The exploration reveals several challenges:\n",
    "\n",
    "- High Variability: T2 scans are labeled as 'T2 TSE', 'AX T2', 'AX T2 PROPELLER', etc.\n",
    "\n",
    "- Implicit Angiography: MRA scans are often not labeled \"MRA\" but use vendor-specific sequence names like 'TOF_3D_MULTI-SLAB' (Time-of-Flight) or refer to anatomy like 'AX COW' (Circle of Willis).\n",
    "\n",
    "- Keyword Ambiguity: We need to identify strong keywords like 'ANEURYSM', 'CAROTID', and 'TOF' that signal an angiogram (CTA/MRA) even when the description doesn't explicitly state it.\n",
    "\n",
    "- Language Barriers: As seen in ProcedureCodeMeaning, terms like 'ANJIYOGRAFI' (Turkish for Angiography) require handling."
   ]
  },
  {
   "cell_type": "code",
   "execution_count": 71,
   "id": "486ffb27",
   "metadata": {},
   "outputs": [],
   "source": [
    "def get_upper_str(ds: Dataset, attr: str) -> str:\n",
    "    \"\"\"Safely gets an attribute from a pydicom dataset and returns it as an uppercase string.\"\"\"\n",
    "    return str(getattr(ds, attr, \"\") or \"\").upper()\n",
    "\n",
    "def _infer_subtype(ds_first: Dataset) -> str:\n",
    "    \"\"\"Infers a broad subtype from DICOM metadata using modality-specific keyword sets.\"\"\"\n",
    "    mod = get_upper_str(ds_first, \"Modality\")\n",
    "    desc = get_upper_str(ds_first, \"SeriesDescription\") + \" \" + get_upper_str(ds_first, \"ProtocolName\")\n",
    "\n",
    "    try:\n",
    "        proc_code = \"\"\n",
    "        for item in getattr(ds_first, \"ProcedureCodeSequence\", []) or []:\n",
    "            proc_code += get_upper_str(item, \"CodeMeaning\") + \" \"\n",
    "        if any(k in proc_code for k in [\"ANGIO\", \"ANJIYOGRAFI\", \"MRA\"]):\n",
    "            return \"CTA\" if mod == \"CT\" else \"MRA\"\n",
    "    except Exception:\n",
    "        pass\n",
    "\n",
    "\n",
    "    cta_keywords = [\"CTA\", \"ANGIO\", \"CAROTID\", \"MIP\", \"AX-MIP\"]\n",
    "    mra_keywords = [\"MRA\", \"ANGIO\", \"TOF\", \"3DTOF\", \"CEMRA\", \"FL3D\", \"SPGR\"]\n",
    "    t1_tokens = [\"T1\", \"MPRAGE\", \"BRAVO\", \"SPGR\", \"FSPGR\", \"MPR\"]\n",
    "    t1_post_tokens = [\"POST\", \"+C\", \"GAD\", \"GD\", \"CONTRAST\"]\n",
    "\n",
    "    if mod == \"CT\":\n",
    "        if any(k in desc for k in cta_keywords):\n",
    "            return \"CTA\"\n",
    "        return \"CT\"\n",
    "\n",
    "    if mod == \"MR\":\n",
    "        if any(k in desc for k in mra_keywords) or re.search(r'\\bCOW\\b', desc):\n",
    "            return \"MRA\"\n",
    "        \n",
    "        if any(k in desc for k in t1_tokens) and any(k in desc for k in t1_post_tokens):\n",
    "            return \"MRI T1post\"\n",
    "        \n",
    "        if \"T2\" in desc:\n",
    "            return \"MRI T2\"\n",
    "        \n",
    "        return \"MR\"\n",
    "\n",
    "    return mod if mod else \"Unknown\""
   ]
  },
  {
   "cell_type": "code",
   "execution_count": 72,
   "id": "3c64c1e6",
   "metadata": {},
   "outputs": [
    {
     "name": "stdout",
     "output_type": "stream",
     "text": [
      "   Modality                    SeriesDescription InferredSubtype\n",
      "0        MR                          AX T2 FRFSE          MRI T2\n",
      "1        MR                                  MRA             MRA\n",
      "2        CT                                                   CT\n",
      "3        MR                                                   MR\n",
      "4        CT                          ANGIO THINS             CTA\n",
      "5        MR                        AX TOF 3D COW             MRA\n",
      "6        MR                       AX TOF COW 0.6             MRA\n",
      "7        CT  DE_CAROTIDANGIO AX SOFT THIN  F_0.7             CTA\n",
      "8        MR                             T2 AX FS          MRI T2\n",
      "9        CT                 ANGIO 0.8, IDOSE (3)             CTA\n",
      "10       MR                       AX TOF COW 0.6             MRA\n",
      "11       MR           T1FS_3D_AX WHOLE BRAIN_GD.      MRI T1post\n",
      "12       MR                          AX T2 FRFSE          MRI T2\n",
      "13       MR                      AX T2 TSE BLADE          MRI T2\n",
      "14       CT                         BRAIN CTA5MM             CTA\n",
      "15       CT                   MCTA (FAST STROKE)             CTA\n",
      "16       CT                           CTA 3.0 CE             CTA\n",
      "17       CT                                                   CT\n",
      "18       MR                      T2_BLADE_TRA_FS          MRI T2\n",
      "19       MR                    TOF_3D_MULTI-SLAB             MRA\n",
      "20       CT              HEADANGIO  1.5  HV36  3             CTA\n",
      "21       MR                                AX T2          MRI T2\n",
      "22       MR                               SAG T2          MRI T2\n",
      "23       MR                        AX TOF 3D COW             MRA\n",
      "24       MR                       T2 AX FS BLADE          MRI T2\n",
      "25       MR                    TOF_FL3D_TRA FAST             MRA\n",
      "26       CT                    0.625MM ANGIO COW             CTA\n",
      "27       MR                          AX MPR POST      MRI T1post\n",
      "28       CT                            BR AX CTA             CTA\n",
      "29       CT                        CTA TIMING SP             CTA\n"
     ]
    }
   ],
   "source": [
    "series_dir = data_root / \"raw\" / \"series\"\n",
    "val_results = []\n",
    "\n",
    "for uid_dir in series_dir.iterdir():\n",
    "    files = sorted(uid_dir.glob(\"*.dcm\"))\n",
    "    if files:\n",
    "        ds = pydicom.dcmread(str(files[0]))\n",
    "        subtype = _infer_subtype(ds)\n",
    "        val_results.append({\n",
    "        \"Modality\": get_upper_str(ds, \"Modality\"),\n",
    "        \"SeriesDescription\": get_upper_str(ds, \"SeriesDescription\"),\n",
    "        \"InferredSubtype\": subtype\n",
    "        })\n",
    "\n",
    "df_val = pd.DataFrame(val_results)\n",
    "print(df_val.head(30))"
   ]
  },
  {
   "cell_type": "markdown",
   "id": "fe3edc15",
   "metadata": {},
   "source": [
    "**Outcome:** The developed rule-based classifier successfully normalizes heterogeneous DICOM metadata into clean, reliable categories.\n",
    "\n",
    "**Impact:** This enables the creation of robust, automated preprocessing pipelines where different scan types receive the appropriate specific transformations (e.g., windowing for CTA, normalization for MRA), significantly improving reliability and reducing manual intervention. This iterative process of explore-build-validate is essential for handling real-world medical data."
   ]
  }
 ],
 "metadata": {
  "kernelspec": {
   "display_name": "Python 3",
   "language": "python",
   "name": "python3"
  },
  "language_info": {
   "codemirror_mode": {
    "name": "ipython",
    "version": 3
   },
   "file_extension": ".py",
   "mimetype": "text/x-python",
   "name": "python",
   "nbconvert_exporter": "python",
   "pygments_lexer": "ipython3",
   "version": "3.9.23"
  }
 },
 "nbformat": 4,
 "nbformat_minor": 5
}
